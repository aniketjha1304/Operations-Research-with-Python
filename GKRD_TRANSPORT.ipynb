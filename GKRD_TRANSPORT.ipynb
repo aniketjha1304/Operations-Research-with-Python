{
 "cells": [
  {
   "cell_type": "code",
   "execution_count": 1,
   "metadata": {},
   "outputs": [],
   "source": [
    "#We are solving the question by Linear programming in python of operational research technique\n",
    "\n"
   ]
  },
  {
   "cell_type": "code",
   "execution_count": 2,
   "metadata": {},
   "outputs": [],
   "source": [
    "#Importing all the necessary libraries\n",
    "\n",
    "from pulp import *\n",
    "import numpy as np \n",
    "import pandas as pd\n",
    "import matplotlib.pyplot as plt\n",
    "%matplotlib inline"
   ]
  },
  {
   "cell_type": "code",
   "execution_count": 3,
   "metadata": {},
   "outputs": [],
   "source": [
    "#We will use the pulp library of python for linear programming"
   ]
  },
  {
   "cell_type": "code",
   "execution_count": 4,
   "metadata": {},
   "outputs": [],
   "source": [
    "#Sets of the sources and destination .\n",
    "\n",
    "SOURCES = ['Chennai', 'Thiruvallur']\n",
    "DESTINATIONS = ['PlantA', 'PlantB', 'PlantC']"
   ]
  },
  {
   "cell_type": "code",
   "execution_count": 5,
   "metadata": {},
   "outputs": [],
   "source": [
    "#Dictionary of number of buses in Demand (DEMAND)\n",
    "#these numbers are calculated by the percentage of employees given in the information ,\n",
    "#these numbers represent the number of buses the plant requires\n",
    "demand = {  \n",
    "    'PlantA' : 30,                   \n",
    "    'PlantB': 33,\n",
    "    'PlantC' : 7\n",
    "}\n",
    "#As the supply (i.e the number of buses the stations chennai and thiruvallur can accomodate )  was given to be 60 and 37 respectively\n",
    "# in normal days,but in the pandemic situation as the demand of buses was droped the supply also needs to be decreased.\n",
    "# So for making the problem  BALANCED , we take the supply as variable.\n"
   ]
  },
  {
   "cell_type": "code",
   "execution_count": 6,
   "metadata": {},
   "outputs": [],
   "source": [
    "x = LpVariable(name=\"x\", lowBound=0 , upBound=60 , cat = 'Integer') \n",
    "#Number of buses chennai station would accomodate with max. limit of 60                                        \n",
    "y = LpVariable(name=\"y\", lowBound=0 , upBound=37 , cat = 'Integer') \n",
    "#Number of buses thiruvallur station would accomodate with max. limit of 37       "
   ]
  },
  {
   "cell_type": "code",
   "execution_count": 7,
   "metadata": {},
   "outputs": [],
   "source": [
    "#Dictionary of number of buses in Supply (SUPPLY)\n",
    "supply = {\n",
    "    'Chennai' : x  ,\n",
    "    'Thiruvallur' : y\n",
    "}"
   ]
  },
  {
   "cell_type": "code",
   "execution_count": 8,
   "metadata": {},
   "outputs": [],
   "source": [
    "#Dictionary of costs of demand and supply of buses\n",
    "cost = {\n",
    "    'Chennai' : { 'PlantA' : 50, 'PlantB' : 55, 'PlantC' : 32},      #cost from chennai station to respective plants\n",
    "    'Thiruvallur': { 'PlantA' : 30, 'PlantB' : 25, 'PlantC' : 55}    #cost from thiruvallur station to respective plants\n",
    "}\n",
    "#here the cost is in mutiple of 100...scale 1 = 100"
   ]
  },
  {
   "cell_type": "code",
   "execution_count": 9,
   "metadata": {},
   "outputs": [],
   "source": [
    "#The whole steps above can be skipped if the data was large and in excel formal. Using pandas and numpy libraries for formating and reading excel can be done in single step\n",
    "\n",
    "#df = pd.read_excel('file_name.extension')\n"
   ]
  },
  {
   "cell_type": "code",
   "execution_count": 10,
   "metadata": {},
   "outputs": [],
   "source": [
    "#Setting problem variables (DECISION VARIABLES)\n",
    "\n",
    "#initializning the model\n",
    "prob = LpProblem(\"Transport\",LpMinimize)   \n",
    "#Defining the problem model(prob) with name as Transport and defining the function to find the minimum\n",
    "\n",
    "routes = [(i,j) for i in SOURCES for j in DESTINATIONS]  \n",
    "#defining the variables routes for Cij (Number of bus in matrix with ith station and jth plant)\n",
    "\n",
    "#the decision making variables (number of busses) with number of buses can be  zero for some routes\n",
    "amount_vars = LpVariable.dicts('No._Bus',(SOURCES,DESTINATIONS),lowBound=0 , cat= 'Integer') \n",
    "#reading the dictionary and then initializing the Cij\n"
   ]
  },
  {
   "cell_type": "code",
   "execution_count": 11,
   "metadata": {},
   "outputs": [],
   "source": [
    "#Now telling the model for operations (adding the conditions)\n",
    "prob += lpSum(amount_vars[i][j]*cost[i][j] for (i,j) in routes)  #now multiplying the Cij(number of buses) with the cost"
   ]
  },
  {
   "cell_type": "code",
   "execution_count": 12,
   "metadata": {},
   "outputs": [],
   "source": [
    "for j in DESTINATIONS:\n",
    "    prob += lpSum((amount_vars[i][j]) for i in SOURCES) == demand[j]\n",
    "    #total number of buses to each plant must be equal to the demand \n",
    "for i in SOURCES:\n",
    "    prob += lpSum((amount_vars[i][j]) for j in DESTINATIONS) <= supply[i]   \n",
    "    #total number of buses from each station should be less then or equal to the supply "
   ]
  },
  {
   "cell_type": "code",
   "execution_count": 13,
   "metadata": {},
   "outputs": [],
   "source": [
    "prob += lpSum([x, y]) == 70       #the total number of buses from the stations must be equal to the demand (70)"
   ]
  },
  {
   "cell_type": "code",
   "execution_count": 14,
   "metadata": {},
   "outputs": [
    {
     "name": "stdout",
     "output_type": "stream",
     "text": [
      "Status: Optimal\n"
     ]
    }
   ],
   "source": [
    "prob.solve()          \n",
    "print('Status:',LpStatus[prob.status])     #priting the status of the solution"
   ]
  },
  {
   "cell_type": "code",
   "execution_count": 15,
   "metadata": {},
   "outputs": [
    {
     "name": "stdout",
     "output_type": "stream",
     "text": [
      "No._Bus_Chennai_PlantA = 26.0\n",
      "No._Bus_Chennai_PlantB = 0.0\n",
      "No._Bus_Chennai_PlantC = 7.0\n",
      "No._Bus_Thiruvallur_PlantA = 4.0\n",
      "No._Bus_Thiruvallur_PlantB = 33.0\n",
      "No._Bus_Thiruvallur_PlantC = 0.0\n",
      "x = 33.0\n",
      "y = 37.0\n"
     ]
    }
   ],
   "source": [
    "for v in prob.variables():\n",
    "        print(v.name, '=' ,v.varValue)"
   ]
  },
  {
   "cell_type": "code",
   "execution_count": 16,
   "metadata": {},
   "outputs": [],
   "source": [
    "#So the number of buses from station Chennai (x) is 33\n",
    "#So the number of buses from station thiruvallur (y) is 37"
   ]
  },
  {
   "cell_type": "code",
   "execution_count": 17,
   "metadata": {},
   "outputs": [
    {
     "name": "stdout",
     "output_type": "stream",
     "text": [
      "Total_cost_of_transportation =  246900.0\n"
     ]
    }
   ],
   "source": [
    "print('Total_cost_of_transportation = ', value(prob.objective)*100)"
   ]
  },
  {
   "cell_type": "code",
   "execution_count": null,
   "metadata": {},
   "outputs": [],
   "source": [
    "#graphs can be drawn using the library matplotlib for better visualization"
   ]
  },
  {
   "cell_type": "code",
   "execution_count": null,
   "metadata": {},
   "outputs": [],
   "source": []
  },
  {
   "cell_type": "code",
   "execution_count": null,
   "metadata": {},
   "outputs": [],
   "source": []
  }
 ],
 "metadata": {
  "kernelspec": {
   "display_name": "Python 3",
   "language": "python",
   "name": "python3"
  },
  "language_info": {
   "codemirror_mode": {
    "name": "ipython",
    "version": 3
   },
   "file_extension": ".py",
   "mimetype": "text/x-python",
   "name": "python",
   "nbconvert_exporter": "python",
   "pygments_lexer": "ipython3",
   "version": "3.8.2"
  }
 },
 "nbformat": 4,
 "nbformat_minor": 4
}
